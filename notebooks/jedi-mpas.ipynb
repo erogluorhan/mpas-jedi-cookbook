{
 "cells": [
  {
   "cell_type": "markdown",
   "id": "d42403d2-1f38-40d8-8a16-bce3c99b59f8",
   "metadata": {},
   "source": [
    "# Visualization of JEDI analysis with UXarray in the model space"
   ]
  },
  {
   "cell_type": "markdown",
   "id": "c4291d90-50a8-48b4-a763-7ece16499cdb",
   "metadata": {},
   "source": [
    "```{image} images/jedi-mpas.png\n",
    ":alt: JEDI\n",
    ":width: 400px\n",
    ":align: center\n",
    "```\n",
    "\n",
    "### In this section, you'll learn:\n",
    "\n",
    "* Utilizing UXarry to compute analysis increments, visualize increments in horizontal and vertical cross sections\n",
    "\n",
    "<!--\n",
    "### Related Documentation\n",
    "\n",
    "* [URL title](URL)\n",
    "* \n",
    "-->\n",
    "\n",
    "### Prerequisites\n",
    "\n",
    "| Concepts | Importance | Notes |\n",
    "| --- | --- | --- |\n",
    "| Atmospheric Data Assimilation | Helpful | |\n",
    "\n",
    "**Time to learn**: 10 minutes\n",
    "\n",
    "-----"
   ]
  },
  {
   "cell_type": "markdown",
   "id": "45ab765a-e1ea-4fe3-ab57-5c51179d6e7b",
   "metadata": {},
   "source": [
    "## Import packages"
   ]
  },
  {
   "cell_type": "code",
   "execution_count": null,
   "id": "e5786447-ca78-45ed-be6e-fc43fcce58b3",
   "metadata": {},
   "outputs": [],
   "source": [
    "%%time \n",
    "\n",
    "# autoload external python modules if they changed\n",
    "%load_ext autoreload\n",
    "%autoreload 2\n",
    "\n",
    "# add ../funcs to the current path\n",
    "import sys, os\n",
    "sys.path.append(os.path.join(os.getcwd(), \"..\")) \n",
    "\n",
    "# import modules\n",
    "import warnings\n",
    "import math\n",
    "\n",
    "import cartopy.crs as ccrs\n",
    "import geoviews as gv\n",
    "import geoviews.feature as gf\n",
    "import holoviews as hv\n",
    "import hvplot.xarray\n",
    "from holoviews import opts\n",
    "import matplotlib as mpl\n",
    "import matplotlib.pyplot as plt\n",
    "from matplotlib.colors import ListedColormap\n",
    "\n",
    "import s3fs\n",
    "\n",
    "import geopandas as gp\n",
    "import numpy as np\n",
    "import uxarray as ux\n",
    "import xarray as xr"
   ]
  },
  {
   "cell_type": "markdown",
   "id": "5e00234e-3984-47b5-9968-5485f9a94e38",
   "metadata": {},
   "source": [
    "## Configure visualization tools"
   ]
  },
  {
   "cell_type": "code",
   "execution_count": null,
   "id": "b654be71-a194-4c61-8e47-ae78bcef07cb",
   "metadata": {},
   "outputs": [],
   "source": [
    "hv.extension(\"bokeh\")\n",
    "# hv.extension(\"matplotlib\")\n",
    "\n",
    "# common border lines\n",
    "coast_lines = gf.coastline(projection=ccrs.PlateCarree(), line_width=1, scale=\"50m\")\n",
    "state_lines = gf.states(projection=ccrs.PlateCarree(), line_width=1, line_color='gray', scale=\"50m\")"
   ]
  },
  {
   "cell_type": "markdown",
   "id": "64ce2258-3213-46d0-894b-dde23cec44b0",
   "metadata": {},
   "source": [
    "## Helper functions\n",
    "\n",
    "The following functions are used for visualizing the data. The `horizontal_contour` function generates the contour map for a given slice of data."
   ]
  },
  {
   "cell_type": "code",
   "execution_count": null,
   "id": "329cf44e-619e-445d-973f-6db4940da6a6",
   "metadata": {},
   "outputs": [],
   "source": [
    "# Generates a contour plot for a horizontal slice\n",
    "def horizontal_contour(ux_hslice, title, cmin=None, cmax=None, width=800, height=500, clevs=20, cmap=\"coolwarm\", symmetric_cmap=False):\n",
    "    # Get min and max\n",
    "    amin = ux_hslice.min().item()\n",
    "    amax = ux_hslice.max().item()\n",
    "    \n",
    "    cmin = math.floor(amin) if(cmin is None) else cmin\n",
    "    cmax = math.ceil(amax) if(cmax is None) else cmax\n",
    "    \n",
    "    if symmetric_cmap:  # get a symmetric color map when cmin < 0, cmax >0\n",
    "        cmax = max(abs(cmin), cmax)\n",
    "        cmin = -cmax\n",
    "\n",
    "    if isinstance(cmap, str):\n",
    "        cmap = plt.get_cmap(cmap)\n",
    "\n",
    "    # Generate contour plot\n",
    "    title = f\" min={amin:.1f} max={amax:.1f}\"\n",
    "    \n",
    "    contour_plot = hv.operation.contours(\n",
    "        ux_hslice.plot(),\n",
    "        levels=np.linspace(cmin, cmax, num=clevs),  # levels=np.arange(cmin, cmax, 0.5)\n",
    "        filled=True\n",
    "    ).opts(\n",
    "        line_color=None,  # line_width=0.001\n",
    "        width=width, height=height,\n",
    "        cmap=cmap, clim=(cmin, cmax),\n",
    "        colorbar=True, show_legend=False,\n",
    "        tools=['hover'], title=title\n",
    "    )\n",
    "\n",
    "    return contour_plot"
   ]
  },
  {
   "cell_type": "markdown",
   "id": "a8723147-804d-49c9-98eb-ac1996d5b2aa",
   "metadata": {},
   "source": [
    "## Retrieve/load  MPAS/JEDI data\n",
    "The example MPAS/JEDI data are stored at [jetstream2](https://par.nsf.gov/biblio/10296117-jetstream2-accelerating-cloud-computing-via-jetstream). We need to retreive those data first.   \n",
    "There are two ways to retrieve MPAS data:\n",
    "- 1. Download all example data from JetStream2 to local and them load them locally. This approach allows downloading the data once per machine and reuse it in notebooks.\n",
    "- 2. Stream the JetStream2 S3 objects on demand. In this case, each notebook (including restarting a notebook) will retrieve the required data separately as needed."
   ]
  },
  {
   "cell_type": "code",
   "execution_count": null,
   "id": "986295c0-5176-4c68-b838-e2c5d2055ccb",
   "metadata": {},
   "outputs": [],
   "source": [
    "# choose the data_load_method, check the above cell for details. Default to method 1, i.e. download once and reuse it in multiple notebooks\n",
    "data_load_method = 2  # 1 or 2"
   ]
  },
  {
   "cell_type": "markdown",
   "id": "b6d5341e",
   "metadata": {},
   "source": [
    "### Method 1: Download all example data once and reuse it in mulptile notebooks"
   ]
  },
  {
   "cell_type": "code",
   "execution_count": null,
   "id": "84e2a3e5",
   "metadata": {},
   "outputs": [],
   "source": [
    "%%time\n",
    "local_dir=\"/tmp\"\n",
    "\n",
    "if data_load_method == 1 and not os.path.exists(local_dir + \"/conus12km/bkg/mpasout.2024-05-06_01.00.00.nc\"):\n",
    "    jetstream_url = 'https://js2.jetstream-cloud.org:8001/'\n",
    "    fs = s3fs.S3FileSystem(anon=True, asynchronous=False,client_kwargs=dict(endpoint_url=jetstream_url))\n",
    "    conus12_path = 's3://pythia/mpas/conus12km'\n",
    "    fs.get(conus12_path, local_dir, recursive=True)\n",
    "    print(\"Data downloading completed\")\n",
    "else:\n",
    "    print(\"Skip..., either data is available in local or data_load_method is NOT 1\")"
   ]
  },
  {
   "cell_type": "code",
   "execution_count": null,
   "id": "4b16e5f7-de0e-4946-b37a-3f80411f9911",
   "metadata": {},
   "outputs": [],
   "source": [
    "# Set file path\n",
    "if data_load_method == 1:\n",
    "    grid_file = local_dir + \"/conus12km/conus12km.invariant.nc_L60_GFS\"\n",
    "    ana_file = local_dir + \"/conus12km/bkg/mpasout.2024-05-06_01.00.00.nc\"\n",
    "    bkg_file = local_dir + \"/conus12km/ana/mpasout.2024-05-06_01.00.00.nc\""
   ]
  },
  {
   "cell_type": "markdown",
   "id": "096043b5-73d2-4016-8db0-96f9b42f3752",
   "metadata": {},
   "source": [
    "### Method 2: Stream the JetStream2 S3 objects on demand"
   ]
  },
  {
   "cell_type": "code",
   "execution_count": null,
   "id": "a9f7e08f-969f-428f-be8b-c93b3c0eaf1f",
   "metadata": {},
   "outputs": [],
   "source": [
    "%%time\n",
    "if data_load_method == 2:\n",
    "    jetstream_url = 'https://js2.jetstream-cloud.org:8001/'\n",
    "    fs = s3fs.S3FileSystem(anon=True, asynchronous=False,client_kwargs=dict(endpoint_url=jetstream_url))\n",
    "    conus12_path = 's3://pythia/mpas/conus12km'\n",
    "    \n",
    "    grid_url=f\"{conus12_path}/conus12km.invariant.nc_L60_GFS\"\n",
    "    bkg_url=f\"{conus12_path}/bkg/mpasout.2024-05-06_01.00.00.nc\"\n",
    "    ana_url=f\"{conus12_path}/ana/mpasout.2024-05-06_01.00.00.nc\"\n",
    "    \n",
    "    grid_file = fs.open(grid_url)\n",
    "    ana_file = fs.open(ana_url)\n",
    "    bkg_file = fs.open(bkg_url)\n",
    "else:\n",
    "    print(\"Skip..., data_load_method is NOT 2\")"
   ]
  },
  {
   "cell_type": "markdown",
   "id": "a53af878-d8e4-4ef0-9ae7-17b8b8851746",
   "metadata": {},
   "source": [
    ":::{warning}\n",
    "Depending on the network conditions, loading the data can take a few minutes.\n",
    ":::"
   ]
  },
  {
   "cell_type": "markdown",
   "id": "046a7978-009d-495e-98fd-c3108e396e09",
   "metadata": {},
   "source": [
    "### Loading the data into UXarray datasets\n",
    "\n",
    "We use the UXarray data structures for working with the data. This package supports data defined over unstructured grid and provides utilities for modifying and visualizing it. The available fucntionality are discussed in [`UxDataset` documentation](https://uxarray.readthedocs.io/en/latest/generated/uxarray.UxDataset.html#uxarray.UxDataset)."
   ]
  },
  {
   "cell_type": "code",
   "execution_count": null,
   "id": "859ea1b0-14b9-41a8-80fe-0e712d5a16f6",
   "metadata": {},
   "outputs": [],
   "source": [
    "uxds_a = ux.open_dataset(grid_file, ana_file)\n",
    "uxds_b = ux.open_dataset(grid_file, bkg_file)"
   ]
  },
  {
   "cell_type": "markdown",
   "id": "bce142ec-a08a-444f-9b21-3d52b36c8a03",
   "metadata": {},
   "source": [
    "## compute the analysis increments from the JEDI data assimilation\n",
    "JEDI updates the background atmospheric state (`uxds_b`) with observation innovations and gets a new atmospheric state called analysis (`uxds_a`).  \n",
    "The difference of `uxds_a` - `uxds_b` is called \"analysis increments\""
   ]
  },
  {
   "cell_type": "code",
   "execution_count": null,
   "id": "96226942-5fef-4f5e-a881-eb50984e2852",
   "metadata": {},
   "outputs": [],
   "source": [
    "var_name = \"theta\"\n",
    "uxdiff0 = uxds_a[var_name] - uxds_b[var_name]\n",
    "uxvar = uxdiff0"
   ]
  },
  {
   "cell_type": "markdown",
   "id": "d2fef896-7789-49d1-acb6-da2158bd3499",
   "metadata": {},
   "source": [
    "## plot temperature analysis increments at different levels"
   ]
  },
  {
   "cell_type": "code",
   "execution_count": null,
   "id": "1ec5543c-0679-4e30-94a2-44ebea8ff564",
   "metadata": {},
   "outputs": [],
   "source": [
    "## Utility to create ncl style color bars.\n",
    "# def make_discrete_cmap(n_colors, base=\"coolwarm\", *, center_white=False):\n",
    "#     if center_white and n_colors % 2 == 0:\n",
    "#         raise ValueError(\"center_white=True requires an odd n_colors\")\n",
    "#     base_cmap  = plt.get_cmap(base)\n",
    "#     positions  = np.linspace(0, 1, n_colors)\n",
    "#     colours    = base_cmap(positions)\n",
    "#     if center_white:\n",
    "#         colours[n_colors // 2] = (1.0, 1.0, 1.0, 1.0)\n",
    "\n",
    "#     suffix = \"_cw\" if center_white else \"\"\n",
    "#     return ListedColormap(colours, name=f\"{base}_{n_colors}{suffix}\")\n",
    "# # levels = np.arange(-4.0, 4.0 + 0.5, 0.5)\n",
    "# cmap   = make_discrete_cmap(base=\"coolwarm\", n_colors=16, center_white=False)\n",
    "from matplotlib.colors import ListedColormap, BoundaryNorm, to_rgba\n",
    "\n",
    "def make_interval_cmap(\n",
    "    edges,\n",
    "    colors=None,\n",
    "    *,\n",
    "    base_cmap=\"viridis\",\n",
    "    bad=\"none\",\n",
    "    under=None,\n",
    "    over=None\n",
    "):\n",
    "    edges = np.asarray(edges, dtype=float)\n",
    "    if edges.ndim != 1 or len(edges) < 2:\n",
    "        raise ValueError(\"`edges` must be 1D with at least two values.\")\n",
    "    if not np.all(np.diff(edges) > 0):\n",
    "        raise ValueError(\"`edges` must be strictly increasing.\")\n",
    "\n",
    "    n_bins = len(edges) - 1\n",
    "\n",
    "    if colors is None:\n",
    "        # sample from a base cmap at bin midpoints\n",
    "        cm = plt.get_cmap(base_cmap)\n",
    "        mids = 0.5 * (edges[:-1] + edges[1:])\n",
    "        # normalize mids to 0..1 based on full range of edges\n",
    "        t = (mids - edges[0]) / (edges[-1] - edges[0])\n",
    "        cols = cm(t)\n",
    "    else:\n",
    "        if len(colors) != n_bins:\n",
    "            raise ValueError(f\"`colors` must have length {n_bins}.\")\n",
    "        cols = [to_rgba(c) for c in colors]\n",
    "\n",
    "    cmap = ListedColormap(cols, name=\"interval_cmap\")\n",
    "\n",
    "    if bad != \"none\":\n",
    "        cmap.set_bad(bad)\n",
    "    if under is not None:\n",
    "        cmap.set_under(under)\n",
    "    if over is not None:\n",
    "        cmap.set_over(over)\n",
    "\n",
    "    norm = BoundaryNorm(edges, cmap.N, extend=(\"neither\" if (under is None and over is None) else \"both\"))\n",
    "    return cmap, norm\n",
    "\n",
    "edges = [-4, -3.5, -3, -2.5, -2, -1.5, -1, -0.5, 0, 0.5, 1.0, 1.5, 2, 2.5 ,3, 3.5, 4]\n",
    "# edges = [0, 5, 10, 15, 20, 25, 30, 35, 40, 45, 50]\n",
    "colors = [\n",
    "    \"green\",\n",
    "    \"blue\",\n",
    "    \"#313695\",  # deep navy\n",
    "    \"#4575b4\",  # medium blue\n",
    "    \"#74add1\",  # light blue\n",
    "    \"#abd9e9\",  # pale blue\n",
    "    \"#d0f0c0\",  # light green\n",
    "    \"#ffffbf\",  # pale yellow\n",
    "    \"white\",    # pure white (center)\n",
    "    \"#fee090\",  # pale yellow (mirror)\n",
    "    \"#f46d43\",  # orange-red\n",
    "    \"#d73027\",  # red\n",
    "    \"#a50026\",  # deep red\n",
    "    \"#800026\",  # darker maroon\n",
    "    \"#4d0013\",  # deep maroon\n",
    "    \"black\"     # extreme end\n",
    "]\n",
    "\n",
    "\n",
    "cmap, norm = make_interval_cmap(edges, colors, bad=\"lightgray\", under=None, over=None)\n"
   ]
  },
  {
   "cell_type": "code",
   "execution_count": null,
   "id": "f80322a3-f475-4dba-aa2a-99f16498c072",
   "metadata": {},
   "outputs": [],
   "source": [
    "%%time\n",
    "\n",
    "nt=0  # time dimension\n",
    "plot_levels = [0, 19, 29, 39, 42, 49, 58]  # [0, 29, 42]  # [0, 19, 29, 39, 49, 58]\n",
    "\n",
    "zero_shift = 0.0\n",
    "\n",
    "plots = []\n",
    "for lev in plot_levels:\n",
    "    tmp = horizontal_contour(\n",
    "        uxvar.isel(Time=nt, nVertLevels=lev), \n",
    "        title=f'lev={lev}',\n",
    "        symmetric_cmap=True,\n",
    "        cmap =cmap,\n",
    "        cmax=4,\n",
    "        cmin=4\n",
    "        #clevs=20,\n",
    "    )  # for the whole domain\n",
    "    \n",
    "    \n",
    "    plots.append(tmp * coast_lines * state_lines)\n",
    "for p in plots:\n",
    "   display(p)\n",
    "\n",
    "# dat.where((dat > 0.1) | (dat < -0.1)),\n"
   ]
  },
  {
   "cell_type": "markdown",
   "id": "f6733ae8-62da-4ecc-9f79-4d0834e9414c",
   "metadata": {},
   "source": [
    "## Zoomed into Colorado using the subset capability"
   ]
  },
  {
   "cell_type": "code",
   "execution_count": null,
   "id": "14f201f3-900a-4517-abf2-ad55efd967e1",
   "metadata": {},
   "outputs": [],
   "source": [
    "%%time\n",
    "\n",
    "lon_center = -105.03\n",
    "lat_center = 39.0\n",
    "lon_incr = 5 # degree\n",
    "lat_incr = 3 # degree\n",
    "lon_bounds = (lon_center - lon_incr, lon_center + lon_incr)\n",
    "lat_bounds = (lat_center - lat_incr, lat_center + lat_incr)\n",
    "\n",
    "### subset to a small domain\n",
    "uxdiff1 = uxdiff0.subset.bounding_box(lon_bounds, lat_bounds,)\n",
    "uxvar = uxdiff1\n",
    "\n",
    "\n",
    "nt=0  # time dimension\n",
    "plot_levels = [0, 29, 42]  # [0, 19, 29, 39, 49, 58]\n",
    "\n",
    "plots = []\n",
    "for lev in plot_levels:\n",
    "    tmp = horizontal_contour(uxvar.isel(Time=nt, nVertLevels=lev), title=f'lev={lev}', width=700, height=500)  # for the subdomain  \n",
    "    plots.append(tmp * coast_lines * state_lines .opts(xlim=(lon_bounds[0], lon_bounds[1]), ylim=(lat_bounds[0], lat_bounds[1])))\n",
    "\n",
    "# plots share one toolbar, which facilitates doing sync'ed zoom-in/out\n",
    "# hv.Layout(plots).cols(1)\n",
    "\n",
    "# each plot has its own toolbar, which facilitates controlling each plot individually\n",
    "for p in plots:\n",
    "   display(p)"
   ]
  },
  {
   "cell_type": "markdown",
   "id": "be7f9b05-4362-46e0-97a8-7ab94e4551db",
   "metadata": {},
   "source": [
    "# Random Great Circle Arc (GCA)"
   ]
  },
  {
   "cell_type": "code",
   "execution_count": null,
   "id": "8992172c-4407-4640-9353-40b170597c52",
   "metadata": {},
   "outputs": [],
   "source": [
    "# lat=43.3\n",
    "# step_between_points = 100\n",
    "\n",
    "start_point = (-110, 20)\n",
    "end_point = (-70, 50)\n",
    "var_name = \"theta\"\n",
    "uxdiff0 = uxds_a[var_name].isel(Time=0) - uxds_b[var_name].isel(Time=0)\n",
    "uxvar = uxdiff0\n",
    "cross_section_gca = uxvar.cross_section(start=start_point, end=end_point, steps=100)"
   ]
  },
  {
   "cell_type": "code",
   "execution_count": null,
   "id": "56ecb253-043d-40fa-8ece-0a0a1d27d9e9",
   "metadata": {},
   "outputs": [],
   "source": [
    "hlabelticks = [\n",
    "    f\"{abs(lat):.1f}°{'N' if lat >= 0 else 'S'}\\n{abs(lon):.1f}°{'E' if lon >= 0 else 'W'}\"\n",
    "    for lat, lon in zip(cross_section_gca['lat'], cross_section_gca['lon'])\n",
    "]"
   ]
  },
  {
   "cell_type": "code",
   "execution_count": null,
   "id": "3b9f3262-5e4e-423b-8ff6-dca8abbaa1e6",
   "metadata": {},
   "outputs": [],
   "source": [
    "# cross_section_gca.isel(Time=0).transpose().plot.contourf()\n",
    "%matplotlib inline\n",
    "\n",
    "\n",
    "fig= plt.figure(figsize=(8,3))\n",
    "gs= fig.add_gridspec(1,1)\n",
    "ax = fig.add_subplot(gs[0,0])\n",
    "cf=ax.contourf(cross_section_gca.transpose(),cmap='Reds',extend='both')\n",
    "tick_stride = 10\n",
    "ax.set_xticks(cross_section_gca['steps'][::tick_stride])\n",
    "ax.set_xticklabels(hlabelticks[::tick_stride])\n"
   ]
  },
  {
   "cell_type": "code",
   "execution_count": null,
   "id": "da58627b-aefb-4c29-b956-6185add72737",
   "metadata": {},
   "outputs": [],
   "source": [
    "lon=-83.3\n",
    "cross_section_lon = uxvar.cross_section(lon=lon, steps=100)\n",
    "\n",
    "hlabelticks = [\n",
    "    f\"{abs(lat):.1f}°{'N' if lat >= 0 else 'S'}\" for lat in cross_section_lon['lat']\n",
    "]\n",
    "\n",
    "%matplotlib inline\n",
    "fig= plt.figure(figsize=(8,3))\n",
    "gs= fig.add_gridspec(1,1)\n",
    "ax = fig.add_subplot(gs[0,0])\n",
    "cf=ax.contourf(cross_section_lon.transpose(),cmap='Reds',extend='both')\n",
    "\n",
    "ax.set_xticks(cross_section_lon['steps'][::tick_stride])\n",
    "ax.set_xticklabels(hlabelticks[::tick_stride])"
   ]
  },
  {
   "cell_type": "code",
   "execution_count": null,
   "id": "5986a5b4-d80d-4839-ad34-994eb2127ef6",
   "metadata": {},
   "outputs": [],
   "source": [
    "cross_section_lon = uxvar.cross_section(lon=-100., steps=100)\n",
    "cross_section_lon"
   ]
  },
  {
   "cell_type": "markdown",
   "id": "584076c9-5b5b-4cf8-a44c-7c91936e80b9",
   "metadata": {},
   "source": [
    "## save plots to files"
   ]
  },
  {
   "cell_type": "code",
   "execution_count": null,
   "id": "1c60b17c-e42a-4682-844b-128db51e0c70",
   "metadata": {},
   "outputs": [],
   "source": [
    "# hv.save(tmp, 'vslice.png')"
   ]
  }
 ],
 "metadata": {
  "kernelspec": {
   "display_name": "Python 3 (ipykernel)",
   "language": "python",
   "name": "python3"
  },
  "language_info": {
   "codemirror_mode": {
    "name": "ipython",
    "version": 3
   },
   "file_extension": ".py",
   "mimetype": "text/x-python",
   "name": "python",
   "nbconvert_exporter": "python",
   "pygments_lexer": "ipython3",
   "version": "3.11.11"
  }
 },
 "nbformat": 4,
 "nbformat_minor": 5
}
