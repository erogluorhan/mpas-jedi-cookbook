{
 "cells": [
  {
   "cell_type": "markdown",
   "id": "d42403d2-1f38-40d8-8a16-bce3c99b59f8",
   "metadata": {},
   "source": [
    "# Visualization of JEDI analysis in the observation space"
   ]
  },
  {
   "cell_type": "markdown",
   "id": "c4291d90-50a8-48b4-a763-7ece16499cdb",
   "metadata": {},
   "source": [
    "```{image} images/jedi-obsSpace.png\n",
    ":alt: JEDI\n",
    ":width: 400px\n",
    ":align: center\n",
    "```\n",
    "\n",
    "### In this section, you'll learn:\n",
    "\n",
    "* Generate data assimilation statistics and visualize them in the observation space\n",
    "\n",
    "<!--\n",
    "### Related Documentation\n",
    "\n",
    "* [URL title](URL)\n",
    "* \n",
    "-->\n",
    "\n",
    "### Prerequisites\n",
    "\n",
    "| Concepts | Importance | Notes |\n",
    "| --- | --- | --- |\n",
    "| Atmospheric Data Assimilation | Helpful | |\n",
    "\n",
    "**Time to learn**: 10 minutes\n",
    "\n",
    "-----"
   ]
  },
  {
   "cell_type": "markdown",
   "id": "45ab765a-e1ea-4fe3-ab57-5c51179d6e7b",
   "metadata": {},
   "source": [
    "## Import packages"
   ]
  },
  {
   "cell_type": "code",
   "execution_count": null,
   "id": "e5786447-ca78-45ed-be6e-fc43fcce58b3",
   "metadata": {},
   "outputs": [],
   "source": [
    "%%time \n",
    "\n",
    "# autoload external python modules if they changed\n",
    "%load_ext autoreload\n",
    "%autoreload 2\n",
    "\n",
    "# import modules\n",
    "import warnings\n",
    "import math\n",
    "import sys\n",
    "import os\n",
    "\n",
    "import cartopy.crs as ccrs\n",
    "import geoviews as gv\n",
    "import geoviews.feature as gf\n",
    "import holoviews as hv\n",
    "import hvplot.xarray\n",
    "from holoviews import opts\n",
    "import matplotlib.pyplot as plt\n",
    "import matplotlib.ticker as mticker\n",
    "import matplotlib.colors as colors\n",
    "\n",
    "\n",
    "import s3fs\n",
    "import seaborn as sns  # seaborn handles NaN values automatically\n",
    "\n",
    "import geopandas as gp\n",
    "import numpy as np\n",
    "import uxarray as ux\n",
    "import xarray as xr\n",
    "import pandas as pd"
   ]
  },
  {
   "cell_type": "markdown",
   "id": "5e00234e-3984-47b5-9968-5485f9a94e38",
   "metadata": {},
   "source": [
    "## Configure visualization tools"
   ]
  },
  {
   "cell_type": "code",
   "execution_count": null,
   "id": "b654be71-a194-4c61-8e47-ae78bcef07cb",
   "metadata": {},
   "outputs": [],
   "source": [
    "hv.extension(\"bokeh\")\n",
    "# hv.extension(\"matplotlib\")\n",
    "\n",
    "# common border lines\n",
    "coast_lines = gf.coastline(projection=ccrs.PlateCarree(), line_width=1, scale=\"50m\")\n",
    "state_lines = gf.states(projection=ccrs.PlateCarree(), line_width=1, line_color='gray', scale=\"50m\")"
   ]
  },
  {
   "cell_type": "markdown",
   "id": "e54d89bb-04ad-4749-af18-6ceff771b624",
   "metadata": {},
   "source": [
    "## Retrieve JEDI data\n",
    "The example JEDI data are stored at [jetstream2](https://par.nsf.gov/biblio/10296117-jetstream2-accelerating-cloud-computing-via-jetstream). We need to retreive those data first.   "
   ]
  },
  {
   "cell_type": "code",
   "execution_count": null,
   "id": "77d5d703-21fe-4724-b0fd-dece7fdf3e42",
   "metadata": {},
   "outputs": [],
   "source": [
    "%%time\n",
    "local_dir=\"/tmp/conus12km\"\n",
    "os.makedirs(local_dir, exist_ok=True)\n",
    "\n",
    "if not os.path.exists(local_dir + \"/jdiag_cris-fsr_n20.nc\"):\n",
    "    jetstream_url = 'https://js2.jetstream-cloud.org:8001/'\n",
    "    fs = s3fs.S3FileSystem(anon=True, asynchronous=False,client_kwargs=dict(endpoint_url=jetstream_url))\n",
    "    conus12_path = 's3://pythia/mpas/conus12km'\n",
    "    fs.get(conus12_path + \"/jdiag_aircar_t133.nc\", local_dir+\"/jdiag_aircar_t133.nc\")\n",
    "    fs.get(conus12_path + \"/jdiag_aircar_q133.nc\", local_dir+\"/jdiag_aircar_q133.nc\")\n",
    "    fs.get(conus12_path + \"/jdiag_aircar_uv233.nc\", local_dir+\"/jdiag_aircar_uv233.nc\")\n",
    "    fs.get(conus12_path + \"/jdiag_cris-fsr_n20.nc\", local_dir+\"/jdiag_cris-fsr_n20.nc\")\n",
    "    print(\"Data downloading completed\")\n",
    "else:\n",
    "    print(\"Skip..., data is available in local\")"
   ]
  },
  {
   "cell_type": "code",
   "execution_count": null,
   "id": "b756825d-8dc9-4f21-8ebe-4545fc9f995e",
   "metadata": {},
   "outputs": [],
   "source": [
    "from obsSpace import obsSpace, fit_rate, query_data, to_dataframe, query_dataset"
   ]
  },
  {
   "cell_type": "code",
   "execution_count": null,
   "id": "e093cc64-5369-40d4-bae4-b9b4fdca07c1",
   "metadata": {},
   "outputs": [],
   "source": [
    "jdiag_file=local_dir+\"/jdiag_aircar_t133.nc\"\n",
    "aircar = obsSpace(jdiag_file)"
   ]
  },
  {
   "cell_type": "code",
   "execution_count": null,
   "id": "c87c7a05-219d-469c-9530-8dfd1eba28bf",
   "metadata": {},
   "outputs": [],
   "source": [
    "query_data(aircar.t)\n",
    "df = to_dataframe(aircar.t)\n",
    "df"
   ]
  },
  {
   "cell_type": "code",
   "execution_count": null,
   "id": "505cf5a5-17bf-4b38-8400-2d36eb84fc0d",
   "metadata": {},
   "outputs": [],
   "source": [
    "# plot histogram of OmA\n",
    "\n",
    "plt.figure(figsize=(8, 5))\n",
    "#sns.histplot(df[\"oman\"], bins=50, kde=True, color=\"steelblue\")\n",
    "sns.histplot(aircar.t.oman, bins=100, kde=True, color=\"steelblue\")\n",
    "plt.title(\"Histogram of oman\")\n",
    "plt.xlabel(\"oman values\")\n",
    "plt.ylabel(\"Density\")\n",
    "plt.tight_layout()\n",
    "plt.show()"
   ]
  },
  {
   "cell_type": "code",
   "execution_count": null,
   "id": "d55995aa-6540-43f3-9a16-8cec0ad23571",
   "metadata": {},
   "outputs": [],
   "source": [
    "# overlay OMB and OMA histogram together\n",
    "\n",
    "df_long = df[[\"oman\", \"ombg\"]].melt(var_name=\"variable\", value_name=\"value\")\n",
    "\n",
    "plt.figure(figsize=(8, 5))\n",
    "sns.histplot(data=df_long, x=\"value\", hue=\"variable\", bins=50, kde=True, element=\"step\", stat=\"count\")\n",
    "plt.title(\"Overlayed Histogram: oman vs ombg\")\n",
    "plt.tight_layout()\n",
    "plt.show()"
   ]
  },
  {
   "cell_type": "code",
   "execution_count": null,
   "id": "c4e62522-dd47-463d-929f-e18d54fe333e",
   "metadata": {},
   "outputs": [],
   "source": [
    "# overlay OMB and OMA histogram together\n",
    "\n",
    "plt.figure(figsize=(8, 5))\n",
    "sns.histplot(df[\"oman\"], bins=100, kde=True, color=\"blue\", label=\"oman\", multiple=\"layer\")\n",
    "sns.histplot(df[\"ombg\"], bins=100, kde=True, color=\"red\", label=\"ombg\", multiple=\"layer\")\n",
    "\n",
    "plt.title(\"Overlayed Histogram: oman vs ombg\")\n",
    "plt.xlabel(\"Value\")\n",
    "plt.ylabel(\"Frequency\")\n",
    "plt.legend()\n",
    "plt.tight_layout()\n",
    "plt.show()"
   ]
  },
  {
   "cell_type": "markdown",
   "id": "c189822c-d8df-48f5-9d85-67ec96390381",
   "metadata": {},
   "source": [
    "## fit rate and plotting"
   ]
  },
  {
   "cell_type": "code",
   "execution_count": null,
   "id": "b9b4ff8c-5975-46b7-b227-29057c0e7756",
   "metadata": {},
   "outputs": [],
   "source": [
    "# 1. Filter valid data (both 'oman' and 'ombg' are not NaN)\n",
    "valid_df = df[df[\"oman\"].notna() & df[\"ombg\"].notna()].copy()\n",
    "valid_df = valid_df.dropna(subset=[\"height\"])  # removes any rows in valid_df where height is missing (NaN)\n",
    "print(valid_df[valid_df[\"height\"] < 0][\"height\"])   # negative height"
   ]
  },
  {
   "cell_type": "code",
   "execution_count": null,
   "id": "c19be0ac-d95e-499b-a929-7121a0b1a04d",
   "metadata": {},
   "outputs": [],
   "source": [
    "dz = 1000\n",
    "grouped = fit_rate(aircar.t, dz=dz)\n",
    "\n",
    "# 5. Plot vertical profile of fit_rate vs height\n",
    "plt.figure(figsize=(7, 6))\n",
    "plt.plot(grouped[\"fit_rate\"], grouped[\"height_bin\"], marker=\"o\", color=\"blue\")\n",
    "# plt.axvline(x=0, color=\"gray\", linestyle=\"--\")  # ax vertical line\n",
    "\n",
    "plt.xlabel(\"Fit Rate (%)\")  # label change\n",
    "plt.gca().xaxis.set_major_formatter(plt.FuncFormatter(lambda x, _: f'{x*100:.0f}%'))  # format as %\n",
    "plt.ylabel(\"Height Bin (m)\")\n",
    "plt.title(\"Vertical Profile of Fit Rate\")\n",
    "\n",
    "# Fine-tune ticks\n",
    "plt.xticks(np.arange(0, 0.25, 0.05))  #, fontsize=12)\n",
    "plt.yticks(np.arange(0, 13000, dz))  #, , fontsize=12)\n",
    "# Add minor ticks\n",
    "from matplotlib.ticker import AutoMinorLocator\n",
    "plt.gca().xaxis.set_minor_locator(AutoMinorLocator())\n",
    "plt.gca().yaxis.set_minor_locator(AutoMinorLocator())\n",
    "# plt.grid(which='both', linestyle='--', linewidth=0.5)\n",
    "plt.grid(True)\n",
    "\n",
    "plt.ylim(0, 13000)  # set y-axis from 0 (bottom) to 13,000 (top)\n",
    "plt.tight_layout()\n",
    "plt.show()"
   ]
  },
  {
   "cell_type": "code",
   "execution_count": null,
   "id": "7623eed8-c3de-4150-8911-87906ac61fa8",
   "metadata": {},
   "outputs": [],
   "source": [
    "print(grouped[\"height_bin\"])"
   ]
  },
  {
   "cell_type": "markdown",
   "id": "561dfc05-96c7-4bf4-ac22-e0f5669cffa6",
   "metadata": {},
   "source": [
    "## Plot satellite radiance observations"
   ]
  },
  {
   "cell_type": "code",
   "execution_count": null,
   "id": "dd4e2652-3963-472b-bd1f-b813f2da2fbd",
   "metadata": {},
   "outputs": [],
   "source": [
    "### using a general method\n",
    "# from netCDF4 import Dataset\n",
    "# dataset = Dataset(local_dir + \"/conus12km/jdiag_cris-fsr_n20.nc\", mode='r')\n",
    "# query_dataset(dataset, meta_exclude=\"sensorCentralWavenumber_\")\n",
    "# query_dataset(dataset)\n",
    "\n",
    "### using the obsSpace class \n",
    "obsCris = obsSpace(local_dir + \"/jdiag_cris-fsr_n20.nc\")\n",
    "query_data(obsCris.bt, meta_exclude=\"sensorCentralWavenumber_\")"
   ]
  },
  {
   "cell_type": "code",
   "execution_count": null,
   "id": "d0200383-cc83-440e-adbb-e00bf7b9d83e",
   "metadata": {},
   "outputs": [],
   "source": [
    "print(obsCris.bt.hofx0)"
   ]
  },
  {
   "cell_type": "code",
   "execution_count": null,
   "id": "01cce2e7-713a-4d54-aa63-1ea8a0c59873",
   "metadata": {},
   "outputs": [],
   "source": [
    "ncount=0\n",
    "idx = []\n",
    "idx2 = []\n",
    "ch=61\n",
    "for n in np.arange(len(obsCris.bt.ombg[:,ch])):\n",
    "    #if obsCris.bt.CloudDetectMinResidualIR[n,ch] == 1: \n",
    "     if obsCris.bt.ombg[n,ch] > -200 and obsCris.bt.ombg[n,ch] < 200:\n",
    "       idx.append(n)\n",
    "       ncount = ncount + 1 \n",
    "\n",
    "lat=obsCris.bt.latitude[idx]\n",
    "lon=obsCris.bt.longitude[idx]\n",
    "obarray=obsCris.bt.DerivedObsValue[idx,ch]\n",
    "print(lon,lat,obarray)\n",
    "print(ncount)"
   ]
  },
  {
   "cell_type": "code",
   "execution_count": null,
   "id": "c263a15a-28d8-46b9-b33e-1a07c2e344cc",
   "metadata": {},
   "outputs": [],
   "source": [
    "datmi = np.nanmin(obarray)  # Min of the data\n",
    "datma = np.nanmax(obarray)  # Max of the data\n",
    "\n",
    "\n",
    "import matplotlib.pyplot as plt\n",
    "if np.nanmin(obarray) < 0:\n",
    "  cmax = datma\n",
    "  cmin = datmi\n",
    "  cmax=310\n",
    "  cmin=200\n",
    "  #cmax=1.0\n",
    "  #cmin=-1.0\n",
    "  cmap = 'RdBu'\n",
    "else:\n",
    "  #cmax = omean+stdev\n",
    "  #cmin = np.maximum(omean-stdev, 0.0)\n",
    "  cma = datma\n",
    "  cmin = datmi\n",
    "  cmax=310\n",
    "  cmin=200\n",
    "  #cmax=1.0\n",
    "  #cmin=-1.0\n",
    "  cmap = 'RdBu'\n",
    "  cmap = 'viridis'\n",
    "  cmap = 'jet'\n",
    "\n",
    "\n",
    "\n",
    "cmin = 200.\n",
    "cmax = 310.\n",
    "conus_12km = [-150, -50, 15, 55]\n",
    "\n",
    "color_map = plt.cm.get_cmap(cmap)\n",
    "reversed_color_map = color_map.reversed()\n",
    "units = 'K'\n",
    "#units = '%'\n",
    "\n",
    "fig = plt.figure(figsize=(10, 5))"
   ]
  },
  {
   "cell_type": "code",
   "execution_count": null,
   "id": "917fe0b9-2e89-4c48-89cf-165b2d6117f3",
   "metadata": {},
   "outputs": [],
   "source": [
    "# Initialize the plot pointing to the projection\n",
    "# ------------------------------------------------\n",
    "ax = plt.axes(projection=ccrs.PlateCarree(central_longitude=0))\n",
    "\n",
    "# Plot grid lines\n",
    "# ----------------\n",
    "gl = ax.gridlines(crs=ccrs.PlateCarree(central_longitude=0), draw_labels=True,\n",
    "                  linewidth=1, color='gray', alpha=0.5, linestyle='-')\n",
    "gl.top_labels = False\n",
    "gl.xlabel_style = {'size': 10, 'color': 'black'}\n",
    "gl.ylabel_style = {'size': 10, 'color': 'black'}\n",
    "gl.xlocator = mticker.FixedLocator(\n",
    "   [-180, -135, -90, -45, 0, 45, 90, 135, 179.9])\n",
    "ax.set_ylabel(\"Latitude\",  fontsize=7)\n",
    "ax.set_xlabel(\"Longitude\", fontsize=7)\n",
    "\n",
    "# Get scatter data\n",
    "# ------------------\n",
    "#print('obarray = ', obarray)\n",
    "print('min/max obarray = ', min(obarray),max(obarray))\n",
    "#sc = ax.scatter(lonData, latData,\n",
    "sc = ax.scatter(lon, lat,\n",
    "                c=obarray, s=4, linewidth=0,\n",
    "                transform=ccrs.PlateCarree(), cmap=cmap, vmin=cmin, vmax = cmax, norm=None, antialiased=True)\n",
    "\n",
    "\n",
    "\n",
    "\n",
    "# Plot colorbar\n",
    "# --------------\n",
    "cbar = plt.colorbar(sc, ax=ax, orientation=\"horizontal\", pad=.1, fraction=0.06,ticks=[200, 210, 220, 230, 240, 250, 260, 270, 280, 290, 300, 310])\n",
    "#cbar = plt.colorbar(sc, ax=ax, orientation=\"horizontal\", pad=.1, fraction=0.06,ticks=[-3, -2.5, -2, -1.5, -1, -0.5, 0, 0.5, 1.0, 1.5, 2.0, 2.5, 3 ])\n",
    "#cbar = plt.colorbar(sc, ax=ax, orientation=\"horizontal\", pad=.1, fraction=0.06,ticks=[0, 10, 20, 20, 40, 50, 60, 70, 80, 90, 100])\n",
    "cbar.ax.set_ylabel(units, fontsize=10)\n",
    "# Plot globally\n",
    "# --------------\n",
    "#ax.set_global()\n",
    "#ax.set_extent(conus)\n",
    "ax.set_extent(conus_12km)\n",
    "\n",
    "# Draw coastlines\n",
    "# ----------------\n",
    "ax.coastlines()\n",
    "ax.text(0.45, -0.1, 'Longitude', transform=ax.transAxes, ha='left')\n",
    "ax.text(-0.08, 0.4, 'Latitude', transform=ax.transAxes,\n",
    "        rotation='vertical', va='bottom')\n",
    "\n",
    "#text = f\"Total Count:{datcont:0.0f}, Max/Min/Mean/Std: {datma:0.3f}/{datmi:0.3f}/{omean:0.3f}/{stdev:0.3f} {units}\"\n",
    "#print(text)\n",
    "#ax.text(0.67, -0.1, text, transform=ax.transAxes, va='bottom', fontsize=6.2)\n",
    "\n",
    "dpi=150\n",
    "gl.top_labels = False\n",
    "plt.tight_layout()\n",
    "\n",
    "# show plot\n",
    "# -----------\n",
    "# pname='test.png'\n",
    "# plt.savefig(pname, dpi=dpi)                          "
   ]
  }
 ],
 "metadata": {
  "kernelspec": {
   "display_name": "Python 3 (ipykernel)",
   "language": "python",
   "name": "python3"
  },
  "language_info": {
   "codemirror_mode": {
    "name": "ipython",
    "version": 3
   },
   "file_extension": ".py",
   "mimetype": "text/x-python",
   "name": "python",
   "nbconvert_exporter": "python",
   "pygments_lexer": "ipython3",
   "version": "3.11.11"
  }
 },
 "nbformat": 4,
 "nbformat_minor": 5
}
